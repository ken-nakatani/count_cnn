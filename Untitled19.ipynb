{
 "cells": [
  {
   "cell_type": "code",
   "execution_count": 1,
   "metadata": {},
   "outputs": [],
   "source": [
    "import pandas as pd"
   ]
  },
  {
   "cell_type": "code",
   "execution_count": 6,
   "metadata": {},
   "outputs": [],
   "source": [
    "a = pd.read_csv('/home/r201870087ja/Desktop/Aerial5cnn.csv')"
   ]
  },
  {
   "cell_type": "code",
   "execution_count": 7,
   "metadata": {},
   "outputs": [
    {
     "data": {
      "text/html": [
       "<div>\n",
       "<style scoped>\n",
       "    .dataframe tbody tr th:only-of-type {\n",
       "        vertical-align: middle;\n",
       "    }\n",
       "\n",
       "    .dataframe tbody tr th {\n",
       "        vertical-align: top;\n",
       "    }\n",
       "\n",
       "    .dataframe thead th {\n",
       "        text-align: right;\n",
       "    }\n",
       "</style>\n",
       "<table border=\"1\" class=\"dataframe\">\n",
       "  <thead>\n",
       "    <tr style=\"text-align: right;\">\n",
       "      <th></th>\n",
       "      <th>中間層</th>\n",
       "    </tr>\n",
       "  </thead>\n",
       "  <tbody>\n",
       "    <tr>\n",
       "      <th>0</th>\n",
       "      <td>3.077506713867187500e+02 3.252976684570312500e...</td>\n",
       "    </tr>\n",
       "    <tr>\n",
       "      <th>1</th>\n",
       "      <td>0.000000000000000000e+00 0.000000000000000000e...</td>\n",
       "    </tr>\n",
       "    <tr>\n",
       "      <th>2</th>\n",
       "      <td>0.000000000000000000e+00 0.000000000000000000e...</td>\n",
       "    </tr>\n",
       "    <tr>\n",
       "      <th>3</th>\n",
       "      <td>1.562626457214355469e+01 1.273582267761230469e...</td>\n",
       "    </tr>\n",
       "    <tr>\n",
       "      <th>4</th>\n",
       "      <td>0.000000000000000000e+00 0.000000000000000000e...</td>\n",
       "    </tr>\n",
       "    <tr>\n",
       "      <th>...</th>\n",
       "      <td>...</td>\n",
       "    </tr>\n",
       "    <tr>\n",
       "      <th>51195</th>\n",
       "      <td>3.198129653930664062e+01 3.708826446533203125e...</td>\n",
       "    </tr>\n",
       "    <tr>\n",
       "      <th>51196</th>\n",
       "      <td>9.025283050537109375e+01 1.041022186279296875e...</td>\n",
       "    </tr>\n",
       "    <tr>\n",
       "      <th>51197</th>\n",
       "      <td>4.836883926391601562e+01 2.826816177368164062e...</td>\n",
       "    </tr>\n",
       "    <tr>\n",
       "      <th>51198</th>\n",
       "      <td>3.895759201049804688e+01 4.134823989868164062e...</td>\n",
       "    </tr>\n",
       "    <tr>\n",
       "      <th>51199</th>\n",
       "      <td>0.000000000000000000e+00 0.000000000000000000e...</td>\n",
       "    </tr>\n",
       "  </tbody>\n",
       "</table>\n",
       "<p>51200 rows × 1 columns</p>\n",
       "</div>"
      ],
      "text/plain": [
       "                                                     中間層\n",
       "0      3.077506713867187500e+02 3.252976684570312500e...\n",
       "1      0.000000000000000000e+00 0.000000000000000000e...\n",
       "2      0.000000000000000000e+00 0.000000000000000000e...\n",
       "3      1.562626457214355469e+01 1.273582267761230469e...\n",
       "4      0.000000000000000000e+00 0.000000000000000000e...\n",
       "...                                                  ...\n",
       "51195  3.198129653930664062e+01 3.708826446533203125e...\n",
       "51196  9.025283050537109375e+01 1.041022186279296875e...\n",
       "51197  4.836883926391601562e+01 2.826816177368164062e...\n",
       "51198  3.895759201049804688e+01 4.134823989868164062e...\n",
       "51199  0.000000000000000000e+00 0.000000000000000000e...\n",
       "\n",
       "[51200 rows x 1 columns]"
      ]
     },
     "execution_count": 7,
     "metadata": {},
     "output_type": "execute_result"
    }
   ],
   "source": [
    "a"
   ]
  },
  {
   "cell_type": "code",
   "execution_count": 8,
   "metadata": {},
   "outputs": [],
   "source": [
    "import pandas as pd"
   ]
  },
  {
   "cell_type": "code",
   "execution_count": 9,
   "metadata": {},
   "outputs": [],
   "source": [
    "from collections import Counter"
   ]
  },
  {
   "cell_type": "code",
   "execution_count": 10,
   "metadata": {},
   "outputs": [
    {
     "data": {
      "text/plain": [
       "Counter({'中間層': 1})"
      ]
     },
     "execution_count": 10,
     "metadata": {},
     "output_type": "execute_result"
    }
   ],
   "source": [
    "Counter(a)"
   ]
  },
  {
   "cell_type": "code",
   "execution_count": 12,
   "metadata": {},
   "outputs": [
    {
     "name": "stdout",
     "output_type": "stream",
     "text": [
      "0        False\n",
      "1        False\n",
      "2        False\n",
      "3        False\n",
      "4        False\n",
      "         ...  \n",
      "51195    False\n",
      "51196    False\n",
      "51197    False\n",
      "51198    False\n",
      "51199     True\n",
      "Length: 51200, dtype: bool\n"
     ]
    }
   ],
   "source": [
    "print(a.duplicated())"
   ]
  },
  {
   "cell_type": "code",
   "execution_count": 14,
   "metadata": {},
   "outputs": [
    {
     "name": "stdout",
     "output_type": "stream",
     "text": [
      "                                                     中間層\n",
      "6      0.000000000000000000e+00 0.000000000000000000e...\n",
      "9      0.000000000000000000e+00 0.000000000000000000e...\n",
      "10     0.000000000000000000e+00 0.000000000000000000e...\n",
      "13     0.000000000000000000e+00 0.000000000000000000e...\n",
      "16     0.000000000000000000e+00 0.000000000000000000e...\n",
      "...                                                  ...\n",
      "51182  0.000000000000000000e+00 0.000000000000000000e...\n",
      "51188  0.000000000000000000e+00 0.000000000000000000e...\n",
      "51190  0.000000000000000000e+00 0.000000000000000000e...\n",
      "51192  0.000000000000000000e+00 0.000000000000000000e...\n",
      "51199  0.000000000000000000e+00 0.000000000000000000e...\n",
      "\n",
      "[12992 rows x 1 columns]\n"
     ]
    }
   ],
   "source": [
    "print(a[a.duplicated()])"
   ]
  },
  {
   "cell_type": "code",
   "execution_count": null,
   "metadata": {},
   "outputs": [],
   "source": []
  }
 ],
 "metadata": {
  "kernelspec": {
   "display_name": "Python 3",
   "language": "python",
   "name": "python3"
  },
  "language_info": {
   "codemirror_mode": {
    "name": "ipython",
    "version": 3
   },
   "file_extension": ".py",
   "mimetype": "text/x-python",
   "name": "python",
   "nbconvert_exporter": "python",
   "pygments_lexer": "ipython3",
   "version": "3.6.9"
  }
 },
 "nbformat": 4,
 "nbformat_minor": 2
}
